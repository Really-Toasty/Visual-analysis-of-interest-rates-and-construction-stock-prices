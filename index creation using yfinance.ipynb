{
 "cells": [
  {
   "cell_type": "code",
   "execution_count": 1,
   "id": "8651b59d",
   "metadata": {},
   "outputs": [],
   "source": [
    "import pandas as pd\n",
    "import numpy as np\n",
    "import matplotlib.pyplot as plt\n",
    "import pandas_datareader as pdr"
   ]
  },
  {
   "cell_type": "code",
   "execution_count": 4,
   "id": "ec063dab",
   "metadata": {},
   "outputs": [
    {
     "name": "stdout",
     "output_type": "stream",
     "text": [
      "Requirement already satisfied: yfinance in c:\\users\\elliot\\anaconda3\\lib\\site-packages (0.2.54)\n",
      "Note: you may need to restart the kernel to use updated packages.\n"
     ]
    },
    {
     "name": "stderr",
     "output_type": "stream",
     "text": [
      "ERROR: Could not find a version that satisfies the requirement as (from versions: none)\n",
      "ERROR: No matching distribution found for as\n"
     ]
    }
   ],
   "source": [
    "pip install yfinance as yf"
   ]
  },
  {
   "cell_type": "code",
   "execution_count": 7,
   "id": "cf3af59e",
   "metadata": {},
   "outputs": [],
   "source": [
    "import yfinance as yf"
   ]
  },
  {
   "cell_type": "code",
   "execution_count": 8,
   "id": "8e58a9fd",
   "metadata": {},
   "outputs": [
    {
     "data": {
      "text/plain": [
       "'0.2.54'"
      ]
     },
     "execution_count": 8,
     "metadata": {},
     "output_type": "execute_result"
    }
   ],
   "source": [
    "yf.__version__"
   ]
  },
  {
   "cell_type": "code",
   "execution_count": 11,
   "id": "33a28ed8",
   "metadata": {},
   "outputs": [],
   "source": [
    "start_date = \"1980-01-01\"\n",
    "end_date = \"2024-12-31\""
   ]
  },
  {
   "cell_type": "code",
   "execution_count": 13,
   "id": "31fd5238",
   "metadata": {},
   "outputs": [],
   "source": [
    "ftse350cm = ['IBST.L', 'BBY.L', 'MSLH.L', 'KIE.L' , 'KLR.L']"
   ]
  },
  {
   "cell_type": "code",
   "execution_count": 21,
   "id": "b45a6dfb",
   "metadata": {},
   "outputs": [
    {
     "name": "stderr",
     "output_type": "stream",
     "text": [
      "[*********************100%***********************]  8 of 8 completed\n"
     ]
    }
   ],
   "source": [
    "tickers = ['IBST.L', 'BBY.L', 'MSLH.L', 'KIE.L' , 'KLR.L', 'PSN.L', 'TW.L', 'BKG.L']\n",
    "data = yf.download(tickers, start=start_date, end=end_date)\n",
    "close = data['Close']\n",
    "close.to_csv('construction_stocks.csv')"
   ]
  },
  {
   "cell_type": "code",
   "execution_count": 35,
   "id": "81c7e15b",
   "metadata": {},
   "outputs": [],
   "source": [
    "tickers = ['FTNMX2350.L', 'PSN.L', 'BDEV.L', 'TW.L', 'BKG.L']"
   ]
  },
  {
   "cell_type": "code",
   "execution_count": 34,
   "id": "b562b6a6",
   "metadata": {},
   "outputs": [
    {
     "name": "stderr",
     "output_type": "stream",
     "text": [
      "[*********************100%***********************]  5 of 5 completed\n",
      "\n",
      "2 Failed downloads:\n",
      "['NMX501010', 'BDEV.L']: YFTzMissingError('possibly delisted; no timezone found')\n"
     ]
    }
   ],
   "source": [
    "data = yf.download(tickers, start=start_date, end=end_date)"
   ]
  },
  {
   "cell_type": "code",
   "execution_count": 23,
   "id": "d380ab33",
   "metadata": {},
   "outputs": [
    {
     "data": {
      "text/html": [
       "<div>\n",
       "<style scoped>\n",
       "    .dataframe tbody tr th:only-of-type {\n",
       "        vertical-align: middle;\n",
       "    }\n",
       "\n",
       "    .dataframe tbody tr th {\n",
       "        vertical-align: top;\n",
       "    }\n",
       "\n",
       "    .dataframe thead th {\n",
       "        text-align: right;\n",
       "    }\n",
       "</style>\n",
       "<table border=\"1\" class=\"dataframe\">\n",
       "  <thead>\n",
       "    <tr style=\"text-align: right;\">\n",
       "      <th>Ticker</th>\n",
       "      <th>BBY.L</th>\n",
       "      <th>BKG.L</th>\n",
       "      <th>IBST.L</th>\n",
       "      <th>KIE.L</th>\n",
       "      <th>KLR.L</th>\n",
       "      <th>MSLH.L</th>\n",
       "      <th>PSN.L</th>\n",
       "      <th>TW.L</th>\n",
       "    </tr>\n",
       "    <tr>\n",
       "      <th>Date</th>\n",
       "      <th></th>\n",
       "      <th></th>\n",
       "      <th></th>\n",
       "      <th></th>\n",
       "      <th></th>\n",
       "      <th></th>\n",
       "      <th></th>\n",
       "      <th></th>\n",
       "    </tr>\n",
       "  </thead>\n",
       "  <tbody>\n",
       "    <tr>\n",
       "      <th>1988-07-01</th>\n",
       "      <td>195.681900</td>\n",
       "      <td>202.653763</td>\n",
       "      <td>NaN</td>\n",
       "      <td>NaN</td>\n",
       "      <td>NaN</td>\n",
       "      <td>70.613358</td>\n",
       "      <td>137.990082</td>\n",
       "      <td>207.049393</td>\n",
       "    </tr>\n",
       "    <tr>\n",
       "      <th>1988-07-04</th>\n",
       "      <td>193.295456</td>\n",
       "      <td>200.219376</td>\n",
       "      <td>NaN</td>\n",
       "      <td>NaN</td>\n",
       "      <td>NaN</td>\n",
       "      <td>70.613358</td>\n",
       "      <td>138.756348</td>\n",
       "      <td>206.084213</td>\n",
       "    </tr>\n",
       "    <tr>\n",
       "      <th>1988-07-05</th>\n",
       "      <td>196.278442</td>\n",
       "      <td>200.219376</td>\n",
       "      <td>NaN</td>\n",
       "      <td>NaN</td>\n",
       "      <td>NaN</td>\n",
       "      <td>70.613358</td>\n",
       "      <td>140.289536</td>\n",
       "      <td>205.601456</td>\n",
       "    </tr>\n",
       "    <tr>\n",
       "      <th>1988-07-06</th>\n",
       "      <td>193.892105</td>\n",
       "      <td>200.219376</td>\n",
       "      <td>NaN</td>\n",
       "      <td>NaN</td>\n",
       "      <td>NaN</td>\n",
       "      <td>70.613358</td>\n",
       "      <td>139.522507</td>\n",
       "      <td>205.118912</td>\n",
       "    </tr>\n",
       "    <tr>\n",
       "      <th>1988-07-07</th>\n",
       "      <td>195.085175</td>\n",
       "      <td>200.219376</td>\n",
       "      <td>NaN</td>\n",
       "      <td>NaN</td>\n",
       "      <td>NaN</td>\n",
       "      <td>70.613358</td>\n",
       "      <td>140.289536</td>\n",
       "      <td>205.118912</td>\n",
       "    </tr>\n",
       "    <tr>\n",
       "      <th>...</th>\n",
       "      <td>...</td>\n",
       "      <td>...</td>\n",
       "      <td>...</td>\n",
       "      <td>...</td>\n",
       "      <td>...</td>\n",
       "      <td>...</td>\n",
       "      <td>...</td>\n",
       "      <td>...</td>\n",
       "    </tr>\n",
       "    <tr>\n",
       "      <th>2024-12-20</th>\n",
       "      <td>446.000000</td>\n",
       "      <td>3897.642090</td>\n",
       "      <td>176.000000</td>\n",
       "      <td>147.399994</td>\n",
       "      <td>1432.0</td>\n",
       "      <td>292.000000</td>\n",
       "      <td>1211.500000</td>\n",
       "      <td>122.150002</td>\n",
       "    </tr>\n",
       "    <tr>\n",
       "      <th>2024-12-23</th>\n",
       "      <td>448.399994</td>\n",
       "      <td>3885.643311</td>\n",
       "      <td>175.600006</td>\n",
       "      <td>148.000000</td>\n",
       "      <td>1440.0</td>\n",
       "      <td>287.500000</td>\n",
       "      <td>1211.000000</td>\n",
       "      <td>122.099998</td>\n",
       "    </tr>\n",
       "    <tr>\n",
       "      <th>2024-12-24</th>\n",
       "      <td>453.600006</td>\n",
       "      <td>3895.642334</td>\n",
       "      <td>179.000000</td>\n",
       "      <td>150.000000</td>\n",
       "      <td>1480.0</td>\n",
       "      <td>293.000000</td>\n",
       "      <td>1182.000000</td>\n",
       "      <td>121.500000</td>\n",
       "    </tr>\n",
       "    <tr>\n",
       "      <th>2024-12-27</th>\n",
       "      <td>452.000000</td>\n",
       "      <td>3879.643799</td>\n",
       "      <td>177.399994</td>\n",
       "      <td>149.000000</td>\n",
       "      <td>1450.0</td>\n",
       "      <td>290.000000</td>\n",
       "      <td>1186.000000</td>\n",
       "      <td>120.599998</td>\n",
       "    </tr>\n",
       "    <tr>\n",
       "      <th>2024-12-30</th>\n",
       "      <td>450.399994</td>\n",
       "      <td>3863.645264</td>\n",
       "      <td>174.600006</td>\n",
       "      <td>146.800003</td>\n",
       "      <td>1426.0</td>\n",
       "      <td>288.500000</td>\n",
       "      <td>1177.500000</td>\n",
       "      <td>120.699997</td>\n",
       "    </tr>\n",
       "  </tbody>\n",
       "</table>\n",
       "<p>9365 rows × 8 columns</p>\n",
       "</div>"
      ],
      "text/plain": [
       "Ticker           BBY.L        BKG.L      IBST.L       KIE.L   KLR.L  \\\n",
       "Date                                                                  \n",
       "1988-07-01  195.681900   202.653763         NaN         NaN     NaN   \n",
       "1988-07-04  193.295456   200.219376         NaN         NaN     NaN   \n",
       "1988-07-05  196.278442   200.219376         NaN         NaN     NaN   \n",
       "1988-07-06  193.892105   200.219376         NaN         NaN     NaN   \n",
       "1988-07-07  195.085175   200.219376         NaN         NaN     NaN   \n",
       "...                ...          ...         ...         ...     ...   \n",
       "2024-12-20  446.000000  3897.642090  176.000000  147.399994  1432.0   \n",
       "2024-12-23  448.399994  3885.643311  175.600006  148.000000  1440.0   \n",
       "2024-12-24  453.600006  3895.642334  179.000000  150.000000  1480.0   \n",
       "2024-12-27  452.000000  3879.643799  177.399994  149.000000  1450.0   \n",
       "2024-12-30  450.399994  3863.645264  174.600006  146.800003  1426.0   \n",
       "\n",
       "Ticker          MSLH.L        PSN.L        TW.L  \n",
       "Date                                             \n",
       "1988-07-01   70.613358   137.990082  207.049393  \n",
       "1988-07-04   70.613358   138.756348  206.084213  \n",
       "1988-07-05   70.613358   140.289536  205.601456  \n",
       "1988-07-06   70.613358   139.522507  205.118912  \n",
       "1988-07-07   70.613358   140.289536  205.118912  \n",
       "...                ...          ...         ...  \n",
       "2024-12-20  292.000000  1211.500000  122.150002  \n",
       "2024-12-23  287.500000  1211.000000  122.099998  \n",
       "2024-12-24  293.000000  1182.000000  121.500000  \n",
       "2024-12-27  290.000000  1186.000000  120.599998  \n",
       "2024-12-30  288.500000  1177.500000  120.699997  \n",
       "\n",
       "[9365 rows x 8 columns]"
      ]
     },
     "execution_count": 23,
     "metadata": {},
     "output_type": "execute_result"
    }
   ],
   "source": [
    "close"
   ]
  },
  {
   "cell_type": "code",
   "execution_count": 20,
   "id": "bcbae25e",
   "metadata": {},
   "outputs": [
    {
     "ename": "NameError",
     "evalue": "name 'df' is not defined",
     "output_type": "error",
     "traceback": [
      "\u001b[1;31m---------------------------------------------------------------------------\u001b[0m",
      "\u001b[1;31mNameError\u001b[0m                                 Traceback (most recent call last)",
      "\u001b[1;32m~\\AppData\\Local\\Temp\\ipykernel_2536\\3099199395.py\u001b[0m in \u001b[0;36m<module>\u001b[1;34m\u001b[0m\n\u001b[1;32m----> 1\u001b[1;33m \u001b[0mdf\u001b[0m\u001b[1;33m.\u001b[0m\u001b[0mplot\u001b[0m\u001b[1;33m(\u001b[0m\u001b[0mdata\u001b[0m\u001b[1;33m)\u001b[0m\u001b[1;33m\u001b[0m\u001b[1;33m\u001b[0m\u001b[0m\n\u001b[0m",
      "\u001b[1;31mNameError\u001b[0m: name 'df' is not defined"
     ]
    }
   ],
   "source": [
    "df.plot(data)"
   ]
  }
 ],
 "metadata": {
  "kernelspec": {
   "display_name": "Python 3 (ipykernel)",
   "language": "python",
   "name": "python3"
  },
  "language_info": {
   "codemirror_mode": {
    "name": "ipython",
    "version": 3
   },
   "file_extension": ".py",
   "mimetype": "text/x-python",
   "name": "python",
   "nbconvert_exporter": "python",
   "pygments_lexer": "ipython3",
   "version": "3.9.13"
  }
 },
 "nbformat": 4,
 "nbformat_minor": 5
}
